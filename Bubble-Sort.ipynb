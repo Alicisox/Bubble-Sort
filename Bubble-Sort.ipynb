{
 "cells": [
  {
   "cell_type": "code",
   "execution_count": 21,
   "metadata": {},
   "outputs": [],
   "source": [
    "# For import"
   ]
  },
  {
   "cell_type": "code",
   "execution_count": 22,
   "metadata": {},
   "outputs": [],
   "source": [
    "def bubble_sort(items):\n",
    "    \"\"\" \n",
    "    Sort list by Bubble Sort\n",
    "    Brute force method for sorting values\n",
    "    With run-time complexity of Ο(n^2)\n",
    "    \n",
    "    Arg:\n",
    "    items: list. The python list that contains only integer that want to be sorted.\n",
    "    \n",
    "    Return:\n",
    "    items: list. return sorted list by Bubble Sort\n",
    "    \n",
    "    \"\"\"\n",
    "    for i in range(len(items)):\n",
    "        swapped = False # to check is list sorted or not\n",
    "        for j in range(len(items)):\n",
    "            if items[i] < items[j]: \n",
    "                tmp = items[i] # swap\n",
    "                items[i] = items[j]\n",
    "                items[j] = tmp\n",
    "                swapped = True\n",
    "        if swapped == False:\n",
    "            return items\n",
    "    return items"
   ]
  },
  {
   "cell_type": "code",
   "execution_count": 23,
   "metadata": {},
   "outputs": [
    {
     "data": {
      "text/plain": [
       "[1, 2, 4, 5, 10]"
      ]
     },
     "execution_count": 23,
     "metadata": {},
     "output_type": "execute_result"
    }
   ],
   "source": [
    "items = [4,2,10,5,1]\n",
    "bubble_sort(items)"
   ]
  },
  {
   "cell_type": "code",
   "execution_count": null,
   "metadata": {},
   "outputs": [],
   "source": []
  }
 ],
 "metadata": {
  "kernelspec": {
   "display_name": "Python 3",
   "language": "python",
   "name": "python3"
  },
  "language_info": {
   "codemirror_mode": {
    "name": "ipython",
    "version": 3
   },
   "file_extension": ".py",
   "mimetype": "text/x-python",
   "name": "python",
   "nbconvert_exporter": "python",
   "pygments_lexer": "ipython3",
   "version": "3.8.5"
  }
 },
 "nbformat": 4,
 "nbformat_minor": 4
}
